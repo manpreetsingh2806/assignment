{
 "cells": [
  {
   "cell_type": "code",
   "execution_count": 2,
   "id": "f43466ee",
   "metadata": {},
   "outputs": [],
   "source": [
    "import numpy as np\n"
   ]
  },
  {
   "cell_type": "code",
   "execution_count": 3,
   "id": "aa3871ed",
   "metadata": {},
   "outputs": [
    {
     "name": "stdout",
     "output_type": "stream",
     "text": [
      "36\n"
     ]
    }
   ],
   "source": [
    "#1.Write a Python Program to find sum of array?\n",
    "arr=np.array([1,2,3,4,5,6,7,8])\n",
    "print(sum(arr))\n",
    "\n"
   ]
  },
  {
   "cell_type": "code",
   "execution_count": 49,
   "id": "31e9be15",
   "metadata": {},
   "outputs": [
    {
     "name": "stdout",
     "output_type": "stream",
     "text": [
      "8\n"
     ]
    }
   ],
   "source": [
    "#2.Write a Python Program to find largest element in an array?\n",
    "print(max(arr))"
   ]
  },
  {
   "cell_type": "code",
   "execution_count": 50,
   "id": "401e9098",
   "metadata": {},
   "outputs": [
    {
     "name": "stdout",
     "output_type": "stream",
     "text": [
      "enter the number of rotation you want in array5\n"
     ]
    },
    {
     "data": {
      "text/plain": [
       "array([4, 5, 6, 7, 8, 1, 2, 3])"
      ]
     },
     "execution_count": 50,
     "metadata": {},
     "output_type": "execute_result"
    }
   ],
   "source": [
    "#3.Write a Python Program for array rotation?\n",
    "a=int(input(\"enter the number of rotation you want in array\"))\n",
    "np.roll(arr,a)"
   ]
  },
  {
   "cell_type": "code",
   "execution_count": 51,
   "id": "5a5119c2",
   "metadata": {},
   "outputs": [
    {
     "data": {
      "text/plain": [
       "array([5, 6, 7, 8, 1, 2, 3, 4])"
      ]
     },
     "execution_count": 51,
     "metadata": {},
     "output_type": "execute_result"
    }
   ],
   "source": [
    "#4.Write a Python Program to Split the array and add the first part to the end?\n",
    "n=4 #index where i want to split\n",
    "a=len(arr)\n",
    "for i in range(0,n):\n",
    "    x=arr[0]\n",
    "    for j in range(0,a-1):\n",
    "        arr[j]=arr[j+1]\n",
    "    \n",
    "    arr[a-1]=x\n",
    "        \n",
    "arr"
   ]
  },
  {
   "cell_type": "code",
   "execution_count": 8,
   "id": "8c14c3fc",
   "metadata": {},
   "outputs": [
    {
     "name": "stdout",
     "output_type": "stream",
     "text": [
      "the given array is monotic\n"
     ]
    }
   ],
   "source": [
    "#5.Write a Python Program to check if given array is Monotonic?\n",
    "arr1=np.array([5,6,7,8,9,56,124,6455])\n",
    "mon=0\n",
    "\n",
    "def monotic(b):\n",
    "    if all(b[i] < b[i+1] for i in range(len(b)-1)):\n",
    "        return 1\n",
    "    \n",
    "    if all(b[i] > b[i+1] for i in range(len(b)-1)):\n",
    "            return 2\n",
    "    \n",
    "    else:\n",
    "        return 3\n",
    "   \n",
    "b=monotic(arr1)\n",
    "if b==1 or b==2:\n",
    "    print (\"the given array is monotic\")\n",
    "else:\n",
    "    print(\"the given array is not monotic\")"
   ]
  },
  {
   "cell_type": "code",
   "execution_count": null,
   "id": "fd76d2ed",
   "metadata": {},
   "outputs": [],
   "source": []
  },
  {
   "cell_type": "code",
   "execution_count": null,
   "id": "00a27c86",
   "metadata": {},
   "outputs": [],
   "source": []
  }
 ],
 "metadata": {
  "kernelspec": {
   "display_name": "Python 3 (ipykernel)",
   "language": "python",
   "name": "python3"
  },
  "language_info": {
   "codemirror_mode": {
    "name": "ipython",
    "version": 3
   },
   "file_extension": ".py",
   "mimetype": "text/x-python",
   "name": "python",
   "nbconvert_exporter": "python",
   "pygments_lexer": "ipython3",
   "version": "3.9.12"
  }
 },
 "nbformat": 4,
 "nbformat_minor": 5
}
