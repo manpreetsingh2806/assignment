{
 "cells": [
  {
   "cell_type": "code",
   "execution_count": 41,
   "id": "a37d9248",
   "metadata": {},
   "outputs": [],
   "source": [
    "\n",
    "import numpy as np\n",
    "x=np.mat([[1,2,3],[4,5,6],[7,8,9]])\n",
    "y=np.mat([[10,12,13],[14,15,16],[12,13,14]])"
   ]
  },
  {
   "cell_type": "code",
   "execution_count": 42,
   "id": "5147f24e",
   "metadata": {},
   "outputs": [
    {
     "data": {
      "text/plain": [
       "matrix([[11, 14, 16],\n",
       "        [18, 20, 22],\n",
       "        [19, 21, 23]])"
      ]
     },
     "execution_count": 42,
     "metadata": {},
     "output_type": "execute_result"
    }
   ],
   "source": [
    "#1.Write a Python Program to Add Two Matrices?\n",
    "np.add(x,y)"
   ]
  },
  {
   "cell_type": "code",
   "execution_count": 43,
   "id": "2480d0ae",
   "metadata": {},
   "outputs": [
    {
     "data": {
      "text/plain": [
       "matrix([[ 74,  81,  87],\n",
       "        [182, 201, 216],\n",
       "        [290, 321, 345]])"
      ]
     },
     "execution_count": 43,
     "metadata": {},
     "output_type": "execute_result"
    }
   ],
   "source": [
    "#2.Write a Python Program to Multiply Two Matrices?\n",
    "x*y"
   ]
  },
  {
   "cell_type": "code",
   "execution_count": 44,
   "id": "164a3d63",
   "metadata": {},
   "outputs": [
    {
     "data": {
      "text/plain": [
       "matrix([[1, 2, 3],\n",
       "        [4, 5, 6],\n",
       "        [7, 8, 9]])"
      ]
     },
     "execution_count": 44,
     "metadata": {},
     "output_type": "execute_result"
    }
   ],
   "source": [
    "#3.Write a Python Program to Transpose a Matrix?\n",
    "x"
   ]
  },
  {
   "cell_type": "code",
   "execution_count": 45,
   "id": "d716167c",
   "metadata": {},
   "outputs": [
    {
     "data": {
      "text/plain": [
       "matrix([[1, 4, 7],\n",
       "        [2, 5, 8],\n",
       "        [3, 6, 9]])"
      ]
     },
     "execution_count": 45,
     "metadata": {},
     "output_type": "execute_result"
    }
   ],
   "source": [
    "np.transpose(x)"
   ]
  },
  {
   "cell_type": "code",
   "execution_count": 54,
   "id": "d8097e04",
   "metadata": {},
   "outputs": [
    {
     "name": "stdout",
     "output_type": "stream",
     "text": [
      "a alphabetical am i in order program sort to words writing\n"
     ]
    }
   ],
   "source": [
    "#4.Write a Python Program to Sort Words in Alphabetic Order?\n",
    "s=\"i am writing a program to sort words in alphabetical order\"\n",
    "l=s.split(\" \")\n",
    "l.sort()\n",
    "\n",
    "print(\" \".join(l))"
   ]
  },
  {
   "cell_type": "code",
   "execution_count": 59,
   "id": "a40c50c7",
   "metadata": {},
   "outputs": [
    {
     "data": {
      "text/plain": [
       "'The students job was to make sure no one touched the pet rabbits breakfast'"
      ]
     },
     "execution_count": 59,
     "metadata": {},
     "output_type": "execute_result"
    }
   ],
   "source": [
    "#5.Write a Python Program to Remove Punctuation From a String?\n",
    "punctuations = '''!()-[]{};:'\"\\,<>./?@#$%^&*_~'''\n",
    "s1=\"The student's job was to make su@re no on-e touched the pe%t rabb>it's brea?kfast.\"\n",
    "s2=\"\"\n",
    "for i in s1:\n",
    "    if i in punctuations:\n",
    "        continue\n",
    "    \n",
    "    else:\n",
    "        s2=s2+i\n",
    "    \n",
    "s2"
   ]
  },
  {
   "cell_type": "code",
   "execution_count": null,
   "id": "e2a5b09b",
   "metadata": {},
   "outputs": [],
   "source": []
  }
 ],
 "metadata": {
  "kernelspec": {
   "display_name": "Python 3 (ipykernel)",
   "language": "python",
   "name": "python3"
  },
  "language_info": {
   "codemirror_mode": {
    "name": "ipython",
    "version": 3
   },
   "file_extension": ".py",
   "mimetype": "text/x-python",
   "name": "python",
   "nbconvert_exporter": "python",
   "pygments_lexer": "ipython3",
   "version": "3.9.12"
  }
 },
 "nbformat": 4,
 "nbformat_minor": 5
}
